{
 "cells": [
  {
   "cell_type": "markdown",
   "metadata": {},
   "source": [
    "## 1. Load the Schema Names From the TableName text file."
   ]
  },
  {
   "cell_type": "code",
   "execution_count": 3,
   "metadata": {},
   "outputs": [
    {
     "data": {
      "text/plain": [
       "['CUSTOMERS_SCHEMA',\n",
       " 'RANDOM_SCHEMA1',\n",
       " 'PRODUCT_REVIEWS_SCHEMA',\n",
       " 'RANDOM_SCHEMA3',\n",
       " 'RANDOM_SCHEMA4',\n",
       " 'PRODUCTS_SCHEMA',\n",
       " 'PURCHASES_SCHEMA',\n",
       " 'CATEGORIES_SCHEMA',\n",
       " 'RANDOM_SCHEMA2']"
      ]
     },
     "execution_count": 3,
     "metadata": {},
     "output_type": "execute_result"
    }
   ],
   "source": [
    "with open('data/output_data/TableNames.txt', 'r') as textfile:\n",
    "    schemas_to_convert = [line.split('.')[0] for line in textfile]\n",
    "\n",
    "schemas_to_convert"
   ]
  },
  {
   "cell_type": "markdown",
   "metadata": {},
   "source": [
    "## 2. Read the SQL File Content"
   ]
  },
  {
   "cell_type": "code",
   "execution_count": 4,
   "metadata": {},
   "outputs": [],
   "source": [
    "with open('data/SampleComplexQuery.sql', 'r') as sqlfile:\n",
    "    sql_content = sqlfile.read()"
   ]
  },
  {
   "cell_type": "markdown",
   "metadata": {},
   "source": [
    "## 3. Using `re.sub` Replace Schemas"
   ]
  },
  {
   "cell_type": "code",
   "execution_count": 6,
   "metadata": {},
   "outputs": [
    {
     "data": {
      "text/plain": [
       "\"SELECT * FROM STAGING_SCHEMA.customers WHERE customer_name LIKE '%Shannon%'; \""
      ]
     },
     "execution_count": 6,
     "metadata": {},
     "output_type": "execute_result"
    }
   ],
   "source": [
    "import re\n",
    "\n",
    "sample_sql = \"\"\"SELECT * FROM CUSTOMERS_SCHEMA.customers WHERE customer_name LIKE '%Shannon%'; \"\"\"\n",
    "pattern = r\"\\b(\"+ \"|\".join(schemas_to_convert) + r\")\\.\"\n",
    "new_sql = re.sub(pattern, \"STAGING_SCHEMA.\", sample_sql)\n",
    "new_sql"
   ]
  },
  {
   "cell_type": "markdown",
   "metadata": {},
   "source": [
    "**1. Regular Expression:**\n",
    "\n",
    "* **`r\"\\b(\" + \"|\".join(schemas_to_convert) + r\")\\.\"`:** This is the heart of the pattern matching and replacement.\n",
    "    * `r\":` defines a raw string, preventing escape characters from being interpreted literally.\n",
    "    * `\\b`: Matches word boundaries, preventing partial matches within words (e.g., \"account\" won't match \"customer_account\").\n",
    "    * `(`: Starts a capturing group.\n",
    "    * `|`: Pipe operator separates alternative patterns within the group.\n",
    "    * `\" + \"|\".join(schemas_to_convert) + \"` dynamically inserts each schema name from the list, creating a pattern matching any of them.\n",
    "    * `\")\\.\"`: Matches the captured schema name followed by a dot.\n",
    "\n",
    "**2. Replacement String:**\n",
    "\n",
    "* `\"`: Starts and ends the replacement string.\n",
    "* `\"STAGING_SCHEMA.\"`: The replacement string containing the desired target schema.\n",
    "\n",
    "**3. Flags:**\n",
    "\n",
    "* `re.IGNORECASE`: Optional flag set based on `case_sensitive` argument. Makes the matching case-insensitive.\n"
   ]
  }
 ],
 "metadata": {
  "kernelspec": {
   "display_name": "Python 3",
   "language": "python",
   "name": "python3"
  },
  "language_info": {
   "codemirror_mode": {
    "name": "ipython",
    "version": 3
   },
   "file_extension": ".py",
   "mimetype": "text/x-python",
   "name": "python",
   "nbconvert_exporter": "python",
   "pygments_lexer": "ipython3",
   "version": "3.11.2"
  }
 },
 "nbformat": 4,
 "nbformat_minor": 2
}
