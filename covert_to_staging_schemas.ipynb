{
 "cells": [
  {
   "cell_type": "markdown",
   "metadata": {},
   "source": [
    "## 1. Load the Schema Names From the TableName text file."
   ]
  },
  {
   "cell_type": "code",
   "execution_count": 1,
   "metadata": {},
   "outputs": [
    {
     "data": {
      "text/plain": [
       "['CUSTOMERS_SCHEMA',\n",
       " 'RANDOM_SCHEMA1',\n",
       " 'PRODUCT_REVIEWS_SCHEMA',\n",
       " 'RANDOM_SCHEMA3',\n",
       " 'RANDOM_SCHEMA4',\n",
       " 'PRODUCTS_SCHEMA',\n",
       " 'PURCHASES_SCHEMA',\n",
       " 'CATEGORIES_SCHEMA',\n",
       " 'RANDOM_SCHEMA2']"
      ]
     },
     "execution_count": 1,
     "metadata": {},
     "output_type": "execute_result"
    }
   ],
   "source": [
    "with open('data/output_data/TableNames.txt', 'r') as textfile:\n",
    "    schemas_to_convert = [line.split('.')[0] for line in textfile]\n",
    "\n",
    "schemas_to_convert"
   ]
  },
  {
   "cell_type": "markdown",
   "metadata": {},
   "source": [
    "## 2. Read the SQL File Content"
   ]
  },
  {
   "cell_type": "code",
   "execution_count": 2,
   "metadata": {},
   "outputs": [],
   "source": [
    "with open('data/SampleComplexQuery.sql', 'r') as sqlfile:\n",
    "    sql_content = sqlfile.read()"
   ]
  },
  {
   "cell_type": "markdown",
   "metadata": {},
   "source": [
    "## 3. Using `re.sub` Replace Schemas"
   ]
  },
  {
   "cell_type": "code",
   "execution_count": 3,
   "metadata": {},
   "outputs": [
    {
     "data": {
      "text/plain": [
       "\"INSERT INTO STAGING_SCHEMA.All_Shannons_View AS SELECT * FROM STAGING_SCHEMA.customers WHERE customer_name LIKE '%Shannon%';\""
      ]
     },
     "execution_count": 3,
     "metadata": {},
     "output_type": "execute_result"
    }
   ],
   "source": [
    "import re\n",
    "\n",
    "sample_sql = \"\"\"INSERT INTO customers_schema.All_Shannons_View AS SELECT * FROM CUSTOMERS_SCHEMA.customers WHERE customer_name LIKE '%Shannon%';\"\"\"\n",
    "pattern = r\"\\b(\"+ \"|\".join(schemas_to_convert) + r\")\\.\"\n",
    "new_sql = re.sub(pattern, \"STAGING_SCHEMA.\", sample_sql, flags=re.IGNORECASE)\n",
    "new_sql"
   ]
  },
  {
   "cell_type": "markdown",
   "metadata": {},
   "source": [
    "**1. Regular Expression:**\n",
    "\n",
    "* **`r\"\\b(\" + \"|\".join(schemas_to_convert) + r\")\\.\"`:** This is the heart of the pattern matching and replacement.\n",
    "    * `r\":` defines a raw string, preventing escape characters from being interpreted literally.\n",
    "    * `\\b`: Matches word boundaries, preventing partial matches within words (e.g., \"account\" won't match \"customer_account\").\n",
    "    * `(`: Starts a capturing group.\n",
    "    * `|`: Pipe operator separates alternative patterns within the group.\n",
    "    * `\" + \"|\".join(schemas_to_convert) + \"` dynamically inserts each schema name from the list, creating a pattern matching any of them.\n",
    "    * `\")\\.\"`: Matches the captured schema name followed by a dot.\n",
    "\n",
    "**2. Replacement String:**\n",
    "\n",
    "* `\"`: Starts and ends the replacement string.\n",
    "* `\"STAGING_SCHEMA.\"`: The replacement string containing the desired target schema.\n",
    "\n",
    "**3. Flags:**\n",
    "\n",
    "* `re.IGNORECASE`: Optional flag set based on `case_sensitive` argument. Makes the matching case-insensitive.\n"
   ]
  },
  {
   "cell_type": "markdown",
   "metadata": {},
   "source": [
    "## 4.Apply The Pattern To The SQL File Content"
   ]
  },
  {
   "cell_type": "code",
   "execution_count": 4,
   "metadata": {},
   "outputs": [
    {
     "name": "stdout",
     "output_type": "stream",
     "text": [
      "/* ========================================\n",
      "   Query: Customer Purchase Analysis\n",
      "   Created: 1993-07-15\n",
      "   Created by: Team_A\n",
      "   Purpose: Analyzing customer purchases and loyalty\n",
      "   ========================================\n",
      "*/\n",
      "\n",
      "WITH customer_purchases AS (\n",
      "    SELECT\n",
      "        -- Customer purchase details\n",
      "        customer_id,\n",
      "        purchase_date,\n",
      "        purchase_amount,\n",
      "        -- Commented out: additional column below\n",
      "        -- purchase_type, // Update: 1998-05-20 - Deprecated field, kept for historical compatibility\n",
      "        ROW_NUMBER() OVER (PARTITION BY customer_id ORDER BY purchase_date DESC) AS purchase_number\n",
      "        -- Update: 2005-11-30 - Improved performance by optimizing window function\n",
      "    FROM STAGING_SCHEMA.PURCHASES\n",
      "),\n",
      "customer_loyalty AS (\n",
      "    SELECT\n",
      "        -- Customer loyalty details\n",
      "        customer_id,\n",
      "        SUM(purchase_amount) AS total_spent,\n",
      "        CASE\n",
      "            WHEN total_spent >= 1000 THEN 'Gold'\n",
      "            WHEN total_spent >= 500 THEN 'Silver'\n",
      "            ELSE 'Bronze'\n",
      "        END AS loyalty_level\n",
      "    FROM customer_purchases\n",
      "    GROUP BY customer_id\n",
      "),\n",
      "product_categories AS (\n",
      "    SELECT\n",
      "        -- Product categories\n",
      "        product_id,\n",
      "        category_id\n",
      "    FROM STAGING_SCHEMA.PRODUCT_CATEGORIES\n",
      "),\n",
      "product_details AS (\n",
      "    SELECT\n",
      "        -- Product details\n",
      "        product_id,\n",
      "        product_name,\n",
      "        product_description,\n",
      "        product_price,\n",
      "        -- Commented out: additional columns below\n",
      "        -- product_weight, // Update: 2000\n"
     ]
    }
   ],
   "source": [
    "new_sql_content = re.sub(pattern, \"STAGING_SCHEMA.\", sql_content, flags=re.IGNORECASE)\n",
    "print(new_sql_content[:1500])"
   ]
  },
  {
   "cell_type": "markdown",
   "metadata": {},
   "source": [
    "## 5. Putting It Together"
   ]
  },
  {
   "cell_type": "code",
   "execution_count": 5,
   "metadata": {},
   "outputs": [],
   "source": [
    "import re\n",
    "import os\n",
    "\n",
    "def convert_schema_names(sql_file_path, schema_names_file_path, output_file_path):\n",
    "    \"\"\"\n",
    "    Converts schema names in an SQL file based on a list of schema names.\n",
    "\n",
    "    Args:\n",
    "        sql_file_path (str): Path to the SQL file.\n",
    "        schema_names_file_path (str): Path to the text file containing schema names.\n",
    "        output_file_path (str): Path to the output file.\n",
    "    \"\"\"\n",
    "\n",
    "    try:\n",
    "        with open(schema_names_file_path, \"r\") as textfile:\n",
    "            schemas_to_convert = [line.split('.')[0] for line in textfile]\n",
    "\n",
    "        with open(sql_file_path, \"r\") as f:\n",
    "            sql_content = f.read()\n",
    "\n",
    "        pattern = r\"\\b(\"+ \"|\".join(schemas_to_convert) + r\")\\.\"\n",
    "\n",
    "        new_sql_content = re.sub(pattern, \"STAGING_SCHEMA.\", sql_content, flags=re.IGNORECASE)\n",
    "\n",
    "        # Create a backup of the original file (optional)\n",
    "        os.makedirs(os.path.dirname(output_file_path), exist_ok=True)  # Ensure output directory exists\n",
    "        if os.path.exists(output_file_path):\n",
    "            os.rename(output_file_path, output_file_path + \".bak\")\n",
    "\n",
    "        with open(output_file_path, \"w\") as f:\n",
    "            f.write(new_sql_content)\n",
    "\n",
    "    except FileNotFoundError as e:\n",
    "        print(f\"Error: File not found: {e.filename}\")\n",
    "    except Exception as e:\n",
    "        print(f\"An error occurred: {e}\")\n",
    "\n",
    "sql_file_path = 'data/SampleComplexQuery.sql'\n",
    "schema_names_file_path = 'data/output_data/TableNames.txt'\n",
    "output_file_path = \"data/output_data/modified_sql_file.sql\"\n",
    "convert_schema_names(sql_file_path, schema_names_file_path, output_file_path)\n"
   ]
  }
 ],
 "metadata": {
  "kernelspec": {
   "display_name": "Python 3",
   "language": "python",
   "name": "python3"
  },
  "language_info": {
   "codemirror_mode": {
    "name": "ipython",
    "version": 3
   },
   "file_extension": ".py",
   "mimetype": "text/x-python",
   "name": "python",
   "nbconvert_exporter": "python",
   "pygments_lexer": "ipython3",
   "version": "3.11.2"
  }
 },
 "nbformat": 4,
 "nbformat_minor": 2
}
