{
 "cells": [
  {
   "cell_type": "code",
   "execution_count": 1,
   "metadata": {},
   "outputs": [],
   "source": [
    "import re"
   ]
  },
  {
   "cell_type": "markdown",
   "metadata": {},
   "source": [
    "## 1.Filter Tables"
   ]
  },
  {
   "cell_type": "code",
   "execution_count": 2,
   "metadata": {},
   "outputs": [],
   "source": [
    "with open('data/SampleComplexQuery.sql', 'r') as sql_file:\n",
    "    script_content = sql_file.read()"
   ]
  },
  {
   "cell_type": "code",
   "execution_count": 3,
   "metadata": {},
   "outputs": [
    {
     "data": {
      "text/plain": [
       "['RANDOM_SCHEMA1.PURCHASES',\n",
       " 'customer_purchases',\n",
       " 'RANDOM_SCHEMA2.PRODUCT_CATEGORIES',\n",
       " 'RANDOM_SCHEMA3.PRODUCT_DETAILS',\n",
       " 'RANDOM_SCHEMA4.PRODUCT_REVIEWS',\n",
       " 'customer_purchases',\n",
       " 'customer_loyalty',\n",
       " 'product_categories',\n",
       " 'product_details',\n",
       " 'product_reviews',\n",
       " 'CUSTOMERS_SCHEMA.customers',\n",
       " 'PURCHASES_SCHEMA.purchases',\n",
       " 'customer_purchases',\n",
       " 'PRODUCTS_SCHEMA.products',\n",
       " 'CATEGORIES_SCHEMA.categories',\n",
       " 'PRODUCT_REVIEWS_SCHEMA.product_reviews',\n",
       " 'customer_purchases',\n",
       " 'customer_preferences',\n",
       " 'product_categories',\n",
       " 'product_reviews',\n",
       " 'product_recommendations']"
      ]
     },
     "execution_count": 3,
     "metadata": {},
     "output_type": "execute_result"
    }
   ],
   "source": [
    "# Define a REGEX pattern to match table names\n",
    "pattern = r'(?:FROM|JOIN|INTO)\\s+([\\w\\.]+)'\n",
    "\n",
    "# Find all matches of the pattern in the script\n",
    "# Remember to use ignorecase to match both lower and upper case schema.table names\n",
    "table_matches = re.findall(pattern, script_content, re.IGNORECASE)\n",
    "table_matches"
   ]
  },
  {
   "cell_type": "code",
   "execution_count": 4,
   "metadata": {},
   "outputs": [
    {
     "data": {
      "text/plain": [
       "['RANDOM_SCHEMA1.PURCHASES',\n",
       " 'customer_purchases',\n",
       " 'RANDOM_SCHEMA2.PRODUCT_CATEGORIES',\n",
       " 'RANDOM_SCHEMA3.PRODUCT_DETAILS',\n",
       " 'RANDOM_SCHEMA4.PRODUCT_REVIEWS',\n",
       " 'customer_purchases',\n",
       " 'customer_loyalty',\n",
       " 'product_categories',\n",
       " 'product_details',\n",
       " 'product_reviews',\n",
       " 'CUSTOMERS_SCHEMA.customers',\n",
       " 'PURCHASES_SCHEMA.purchases',\n",
       " 'customer_purchases',\n",
       " 'PRODUCTS_SCHEMA.products',\n",
       " 'CATEGORIES_SCHEMA.categories',\n",
       " 'PRODUCT_REVIEWS_SCHEMA.product_reviews',\n",
       " 'customer_purchases',\n",
       " 'customer_preferences',\n",
       " 'product_categories',\n",
       " 'product_reviews',\n",
       " 'product_recommendations']"
      ]
     },
     "execution_count": 4,
     "metadata": {},
     "output_type": "execute_result"
    }
   ],
   "source": [
    "# Deduplicate the table names in case there are duplicates\n",
    "table_names = list(set(table_matches))\n",
    "table_matches"
   ]
  },
  {
   "cell_type": "code",
   "execution_count": 5,
   "metadata": {},
   "outputs": [
    {
     "data": {
      "text/plain": [
       "['RANDOM_SCHEMA1.PURCHASES',\n",
       " 'PURCHASES_SCHEMA.purchases',\n",
       " 'CATEGORIES_SCHEMA.categories',\n",
       " 'PRODUCT_REVIEWS_SCHEMA.product_reviews',\n",
       " 'CUSTOMERS_SCHEMA.customers',\n",
       " 'RANDOM_SCHEMA4.PRODUCT_REVIEWS',\n",
       " 'PRODUCTS_SCHEMA.products',\n",
       " 'RANDOM_SCHEMA3.PRODUCT_DETAILS',\n",
       " 'RANDOM_SCHEMA2.PRODUCT_CATEGORIES']"
      ]
     },
     "execution_count": 5,
     "metadata": {},
     "output_type": "execute_result"
    }
   ],
   "source": [
    "# Include only main tables and exclude common table expressions\n",
    "table_names = [table_name for table_name in table_names if '.' in table_name]\n",
    "table_names"
   ]
  },
  {
   "cell_type": "markdown",
   "metadata": {},
   "source": [
    "## 2.Filter through Table Names"
   ]
  },
  {
   "cell_type": "code",
   "execution_count": 6,
   "metadata": {},
   "outputs": [
    {
     "data": {
      "text/plain": [
       "['product_reviews', 'products']"
      ]
     },
     "execution_count": 6,
     "metadata": {},
     "output_type": "execute_result"
    }
   ],
   "source": [
    "# Filter to include tables that are in a certain schema such as any schema that contains PRODUCT in it\n",
    "product_tables = []\n",
    "for table_name in table_names:\n",
    "    schema, table = table_name.split('.')\n",
    "    if schema.startswith('PRODUCT'):\n",
    "        product_tables.append(table)\n",
    "\n",
    "product_tables\n"
   ]
  },
  {
   "cell_type": "code",
   "execution_count": 7,
   "metadata": {},
   "outputs": [
    {
     "data": {
      "text/plain": [
       "['PRODUCT_REVIEWS_SCHEMA.product_reviews', 'PRODUCTS_SCHEMA.products']"
      ]
     },
     "execution_count": 7,
     "metadata": {},
     "output_type": "execute_result"
    }
   ],
   "source": [
    "# Using a list comprehension\n",
    "product_tables_2 = [table_name for table_name in table_names\n",
    "                    if table_name.split('.')[0].startswith('PRODUCT')]\n",
    "product_tables_2"
   ]
  },
  {
   "cell_type": "code",
   "execution_count": 8,
   "metadata": {},
   "outputs": [
    {
     "data": {
      "text/plain": [
       "['product_reviews', 'products']"
      ]
     },
     "execution_count": 8,
     "metadata": {},
     "output_type": "execute_result"
    }
   ],
   "source": [
    "product_tables_2 = [table_name.split('.')[1] for table_name in table_names\n",
    "                    if table_name.split('.')[0].startswith('PRODUCT')]\n",
    "product_tables_2"
   ]
  },
  {
   "cell_type": "markdown",
   "metadata": {},
   "source": [
    "## 3.Create Access Request"
   ]
  },
  {
   "cell_type": "code",
   "execution_count": 9,
   "metadata": {},
   "outputs": [
    {
     "data": {
      "text/plain": [
       "['RANDOM_SCHEMA1.PURCHASES',\n",
       " 'PURCHASES_SCHEMA.purchases',\n",
       " 'CATEGORIES_SCHEMA.categories',\n",
       " 'PRODUCT_REVIEWS_SCHEMA.product_reviews',\n",
       " 'CUSTOMERS_SCHEMA.customers',\n",
       " 'RANDOM_SCHEMA4.PRODUCT_REVIEWS',\n",
       " 'PRODUCTS_SCHEMA.products',\n",
       " 'RANDOM_SCHEMA3.PRODUCT_DETAILS',\n",
       " 'RANDOM_SCHEMA2.PRODUCT_CATEGORIES']"
      ]
     },
     "execution_count": 9,
     "metadata": {},
     "output_type": "execute_result"
    }
   ],
   "source": [
    "# List of tables to request user access\n",
    "table_names"
   ]
  },
  {
   "cell_type": "code",
   "execution_count": 10,
   "metadata": {},
   "outputs": [],
   "source": [
    "# Users that need access to the tables\n",
    "usernames = ['Emp0009511', 'User199']"
   ]
  },
  {
   "cell_type": "code",
   "execution_count": 11,
   "metadata": {},
   "outputs": [
    {
     "name": "stdout",
     "output_type": "stream",
     "text": [
      "Access Request Statement is ready for user: Emp0009511\n",
      "Access Request Statement is ready for user: User199\n"
     ]
    }
   ],
   "source": [
    "# Create/open a new/existing SQL file\n",
    "with open('data/output_data/AccessRequest.sql', 'w') as sqlfile:\n",
    "    # Loop through the list and generate and write access request statement for each user\n",
    "    for username in usernames:\n",
    "        for table_name in table_names:\n",
    "            schema, table = table_name.split('.')\n",
    "            access_request = (\n",
    "                \"CALL GRANT_SPECIAL_PRIVILEGES('GRANT', 'SEL,UPD,DEL,INS', \"\n",
    "                f\"'{schema}', '{table}', '{username}');\\n\"\n",
    "                )\n",
    "            sqlfile.write(access_request)\n",
    "        print(f\"Access Request Statement is ready for user: {username}\")\n"
   ]
  },
  {
   "cell_type": "markdown",
   "metadata": {},
   "source": [
    "## 4. Add Error Handling"
   ]
  },
  {
   "cell_type": "code",
   "execution_count": 12,
   "metadata": {},
   "outputs": [
    {
     "name": "stdout",
     "output_type": "stream",
     "text": [
      "An error occured: [Errno 2] No such file or directory: 'ata/output_data/AccessRequest.sql'\n"
     ]
    }
   ],
   "source": [
    "try:\n",
    "    # Create/open a new/existing SQL file\n",
    "    with open('ata/output_data/AccessRequest.sql', 'w') as sqlfile:\n",
    "        # Loop through the list and generate and write access request statement for each user\n",
    "        for username in usernames:\n",
    "            for table_name in table_names:\n",
    "                schema, table = table_name.split('.')\n",
    "                access_request = (\n",
    "                    \"CALL GRANT_SPECIAL_PRIVILEGES('GRANT', 'SEL,UPD,DEL,INS', \"\n",
    "                    f\"'{schema}', '{table}', '{username}');\\n\"\n",
    "                    )\n",
    "                sqlfile.write(access_request)\n",
    "            print(f\"Access Request Statement is ready for user: {username}\")\n",
    "except Exception as e:\n",
    "    print(f\"An error occured: {e}\")"
   ]
  }
 ],
 "metadata": {
  "kernelspec": {
   "display_name": "Python 3",
   "language": "python",
   "name": "python3"
  },
  "language_info": {
   "codemirror_mode": {
    "name": "ipython",
    "version": 3
   },
   "file_extension": ".py",
   "mimetype": "text/x-python",
   "name": "python",
   "nbconvert_exporter": "python",
   "pygments_lexer": "ipython3",
   "version": "3.11.2"
  }
 },
 "nbformat": 4,
 "nbformat_minor": 2
}
