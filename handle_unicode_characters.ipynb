{
 "cells": [
  {
   "cell_type": "code",
   "execution_count": 1,
   "metadata": {},
   "outputs": [],
   "source": [
    "import pandas as pd\n",
    "import numpy as np\n",
    "import re"
   ]
  },
  {
   "cell_type": "code",
   "execution_count": 2,
   "metadata": {},
   "outputs": [
    {
     "data": {
      "text/html": [
       "<div>\n",
       "<style scoped>\n",
       "    .dataframe tbody tr th:only-of-type {\n",
       "        vertical-align: middle;\n",
       "    }\n",
       "\n",
       "    .dataframe tbody tr th {\n",
       "        vertical-align: top;\n",
       "    }\n",
       "\n",
       "    .dataframe thead th {\n",
       "        text-align: right;\n",
       "    }\n",
       "</style>\n",
       "<table border=\"1\" class=\"dataframe\">\n",
       "  <thead>\n",
       "    <tr style=\"text-align: right;\">\n",
       "      <th></th>\n",
       "      <th>col|col|col|col|col|col|col|col|col|col|col|col|col|col|col</th>\n",
       "    </tr>\n",
       "  </thead>\n",
       "  <tbody>\n",
       "    <tr>\n",
       "      <th>0</th>\n",
       "      <td>2023-10-28 12:00:00|2023-10-28 12:15:00|42|17|...</td>\n",
       "    </tr>\n",
       "    <tr>\n",
       "      <th>1</th>\n",
       "      <td>2023-10-28 12:01:00|2023-10-28 12:16:00|21|8|7...</td>\n",
       "    </tr>\n",
       "    <tr>\n",
       "      <th>2</th>\n",
       "      <td>2023-10-28 12:02:00|2023-10-28 12:17:00|60|33|...</td>\n",
       "    </tr>\n",
       "    <tr>\n",
       "      <th>3</th>\n",
       "      <td>2023-10-28 12:03:00|2023-10-28 12:18:00|12|5|6...</td>\n",
       "    </tr>\n",
       "    <tr>\n",
       "      <th>4</th>\n",
       "      <td>2023-10-28 12:04:00|2023-10-28 12:19:00|99|24|...</td>\n",
       "    </tr>\n",
       "  </tbody>\n",
       "</table>\n",
       "</div>"
      ],
      "text/plain": [
       "  col|col|col|col|col|col|col|col|col|col|col|col|col|col|col\n",
       "0  2023-10-28 12:00:00|2023-10-28 12:15:00|42|17|...         \n",
       "1  2023-10-28 12:01:00|2023-10-28 12:16:00|21|8|7...         \n",
       "2  2023-10-28 12:02:00|2023-10-28 12:17:00|60|33|...         \n",
       "3  2023-10-28 12:03:00|2023-10-28 12:18:00|12|5|6...         \n",
       "4  2023-10-28 12:04:00|2023-10-28 12:19:00|99|24|...         "
      ]
     },
     "execution_count": 2,
     "metadata": {},
     "output_type": "execute_result"
    }
   ],
   "source": [
    "# Load Excel file with pipe-separated data\n",
    "excel_file = 'data/IncrementalData.xlsx'\n",
    "df  = pd.read_excel(excel_file)\n",
    "df.head()"
   ]
  },
  {
   "cell_type": "code",
   "execution_count": 3,
   "metadata": {},
   "outputs": [
    {
     "data": {
      "text/plain": [
       "'2023-10-28 12:00:00|2023-10-28 12:15:00|42|17|99|Product Launch|12345|Привет, мир!|100%|Déjà vu|Pipe|Separated|Data|With|Special@Characters'"
      ]
     },
     "execution_count": 3,
     "metadata": {},
     "output_type": "execute_result"
    }
   ],
   "source": [
    "df.iloc[0, 0]"
   ]
  },
  {
   "cell_type": "code",
   "execution_count": 4,
   "metadata": {},
   "outputs": [
    {
     "data": {
      "text/plain": [
       "15"
      ]
     },
     "execution_count": 4,
     "metadata": {},
     "output_type": "execute_result"
    }
   ],
   "source": [
    "# Splite the first row of data by the pipe character to determine the number of columns\n",
    "num_columns = len(df.iloc[0, 0].split('|'))\n",
    "num_columns"
   ]
  },
  {
   "cell_type": "code",
   "execution_count": 5,
   "metadata": {},
   "outputs": [
    {
     "data": {
      "text/plain": [
       "['2023-10-28 12:00:00',\n",
       " '2023-10-28 12:15:00',\n",
       " '42',\n",
       " '17',\n",
       " '99',\n",
       " 'Product Launch',\n",
       " '12345',\n",
       " 'Привет, мир!',\n",
       " '100%',\n",
       " 'Déjà vu',\n",
       " 'Pipe',\n",
       " 'Separated',\n",
       " 'Data',\n",
       " 'With',\n",
       " 'Special@Characters']"
      ]
     },
     "execution_count": 5,
     "metadata": {},
     "output_type": "execute_result"
    }
   ],
   "source": [
    "# Split the first row into individual columns\n",
    "columns = df.iloc[0, 0].split('|')\n",
    "columns"
   ]
  },
  {
   "cell_type": "code",
   "execution_count": 6,
   "metadata": {},
   "outputs": [],
   "source": [
    "# Define column type prefixes follwoing [pattern, prefix]\n",
    "# Optional group in case the timestamp has nanosecond values 2023-10-28 12:00:00.123456\n",
    "type_prefixes = {\n",
    "    'timestamp': [r'^\\d{4}-\\d{2}-\\d{2} \\d{2}:\\d{2}:\\d{2}(\\.\\d{1,9})?$', 'TMSTP'],\n",
    "    'integer': [r'^\\d+$', 'INT'],\n",
    "    'date': [r'^\\d{2,4}-\\d{2}-\\d{2,4}$', 'DT']\n",
    "}"
   ]
  },
  {
   "cell_type": "code",
   "execution_count": 7,
   "metadata": {},
   "outputs": [],
   "source": [
    "# Generate column nmaes with type prefixes\n",
    "column_names = []\n",
    "\n",
    "def get_column_type(column):\n",
    "    for data_type, [pattern, prefix] in type_prefixes.items():\n",
    "        if re.match(pattern, column):\n",
    "            return prefix\n",
    "    return 'STR'"
   ]
  },
  {
   "cell_type": "code",
   "execution_count": 8,
   "metadata": {},
   "outputs": [
    {
     "name": "stdout",
     "output_type": "stream",
     "text": [
      "TMSTP\n",
      "TMSTP\n",
      "INT\n",
      "INT\n",
      "INT\n",
      "STR\n",
      "INT\n",
      "STR\n",
      "STR\n",
      "STR\n",
      "STR\n",
      "STR\n",
      "STR\n",
      "STR\n",
      "STR\n"
     ]
    }
   ],
   "source": [
    "for col in columns:\n",
    "    print(get_column_type(col))"
   ]
  },
  {
   "cell_type": "code",
   "execution_count": 9,
   "metadata": {},
   "outputs": [
    {
     "name": "stdout",
     "output_type": "stream",
     "text": [
      "0 2023-10-28 12:00:00\n",
      "1 2023-10-28 12:15:00\n",
      "2 42\n",
      "3 17\n",
      "4 99\n",
      "5 Product Launch\n",
      "6 12345\n",
      "7 Привет, мир!\n",
      "8 100%\n",
      "9 Déjà vu\n",
      "10 Pipe\n",
      "11 Separated\n",
      "12 Data\n",
      "13 With\n",
      "14 Special@Characters\n"
     ]
    }
   ],
   "source": [
    "for i, col in enumerate(columns):\n",
    "    print(i, col )"
   ]
  },
  {
   "cell_type": "code",
   "execution_count": 10,
   "metadata": {},
   "outputs": [
    {
     "data": {
      "text/plain": [
       "['TMSTP_col_0',\n",
       " 'TMSTP_col_1',\n",
       " 'INT_col_2',\n",
       " 'INT_col_3',\n",
       " 'INT_col_4',\n",
       " 'STR_col_5',\n",
       " 'INT_col_6',\n",
       " 'STR_col_7',\n",
       " 'STR_col_8',\n",
       " 'STR_col_9',\n",
       " 'STR_col_10',\n",
       " 'STR_col_11',\n",
       " 'STR_col_12',\n",
       " 'STR_col_13',\n",
       " 'STR_col_14']"
      ]
     },
     "execution_count": 10,
     "metadata": {},
     "output_type": "execute_result"
    }
   ],
   "source": [
    "for i, col in enumerate(columns):\n",
    "    column_type = get_column_type(col)\n",
    "    column_name = f\"{column_type}_col_{i}\"\n",
    "    column_names.append(column_name)\n",
    "\n",
    "column_names"
   ]
  }
 ],
 "metadata": {
  "kernelspec": {
   "display_name": "Python 3",
   "language": "python",
   "name": "python3"
  },
  "language_info": {
   "codemirror_mode": {
    "name": "ipython",
    "version": 3
   },
   "file_extension": ".py",
   "mimetype": "text/x-python",
   "name": "python",
   "nbconvert_exporter": "python",
   "pygments_lexer": "ipython3",
   "version": "3.11.2"
  }
 },
 "nbformat": 4,
 "nbformat_minor": 2
}
