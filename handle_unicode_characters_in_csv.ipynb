{
 "cells": [
  {
   "cell_type": "code",
   "execution_count": 1,
   "metadata": {},
   "outputs": [],
   "source": [
    "import pandas as pd\n",
    "import numpy as np\n",
    "import re\n",
    "from typing import List"
   ]
  },
  {
   "cell_type": "markdown",
   "metadata": {},
   "source": [
    "# Using CSV File as Source"
   ]
  },
  {
   "cell_type": "code",
   "execution_count": 2,
   "metadata": {},
   "outputs": [
    {
     "data": {
      "text/html": [
       "<div>\n",
       "<style scoped>\n",
       "    .dataframe tbody tr th:only-of-type {\n",
       "        vertical-align: middle;\n",
       "    }\n",
       "\n",
       "    .dataframe tbody tr th {\n",
       "        vertical-align: top;\n",
       "    }\n",
       "\n",
       "    .dataframe thead th {\n",
       "        text-align: right;\n",
       "    }\n",
       "</style>\n",
       "<table border=\"1\" class=\"dataframe\">\n",
       "  <thead>\n",
       "    <tr style=\"text-align: right;\">\n",
       "      <th></th>\n",
       "      <th>col</th>\n",
       "      <th>col.1</th>\n",
       "      <th>col.2</th>\n",
       "      <th>col.3</th>\n",
       "      <th>col.4</th>\n",
       "      <th>col.5</th>\n",
       "      <th>col.6</th>\n",
       "      <th>col.7</th>\n",
       "      <th>col.8</th>\n",
       "      <th>col.9</th>\n",
       "      <th>col.10</th>\n",
       "      <th>col.11</th>\n",
       "      <th>col.12</th>\n",
       "      <th>col.13</th>\n",
       "      <th>col.14</th>\n",
       "    </tr>\n",
       "  </thead>\n",
       "  <tbody>\n",
       "    <tr>\n",
       "      <th>0</th>\n",
       "      <td>2023-10-28 12:00:00</td>\n",
       "      <td>2023-10-28 12:15:00</td>\n",
       "      <td>42</td>\n",
       "      <td>17</td>\n",
       "      <td>99</td>\n",
       "      <td>Product Launch</td>\n",
       "      <td>12345</td>\n",
       "      <td>Привет, мир!</td>\n",
       "      <td>100%</td>\n",
       "      <td>Déjà vu</td>\n",
       "      <td>Pipe</td>\n",
       "      <td>Separated</td>\n",
       "      <td>Data</td>\n",
       "      <td>With</td>\n",
       "      <td>Special@Characters</td>\n",
       "    </tr>\n",
       "    <tr>\n",
       "      <th>1</th>\n",
       "      <td>2023-10-28 12:01:00</td>\n",
       "      <td>2023-10-28 12:16:00</td>\n",
       "      <td>21</td>\n",
       "      <td>8</td>\n",
       "      <td>76</td>\n",
       "      <td>Financial Report</td>\n",
       "      <td>67890</td>\n",
       "      <td>Data#Analytics</td>\n",
       "      <td>80%</td>\n",
       "      <td>Testing✓</td>\n",
       "      <td>Market</td>\n",
       "      <td>Research</td>\n",
       "      <td>Data</td>\n",
       "      <td>Analysis@Sample</td>\n",
       "      <td>NaN</td>\n",
       "    </tr>\n",
       "    <tr>\n",
       "      <th>2</th>\n",
       "      <td>2023-10-28 12:02:00</td>\n",
       "      <td>2023-10-28 12:17:00</td>\n",
       "      <td>60</td>\n",
       "      <td>33</td>\n",
       "      <td>42</td>\n",
       "      <td>Machine Learning</td>\n",
       "      <td>13579</td>\n",
       "      <td>特殊*字符</td>\n",
       "      <td>50%</td>\n",
       "      <td>Übermensch✓</td>\n",
       "      <td>Big Data</td>\n",
       "      <td>Processing</td>\n",
       "      <td>Advanced</td>\n",
       "      <td>AI@Tech</td>\n",
       "      <td>NaN</td>\n",
       "    </tr>\n",
       "    <tr>\n",
       "      <th>3</th>\n",
       "      <td>2023-10-28 12:03:00</td>\n",
       "      <td>2023-10-28 12:18:00</td>\n",
       "      <td>12</td>\n",
       "      <td>5</td>\n",
       "      <td>63</td>\n",
       "      <td>Sales Forecast</td>\n",
       "      <td>24680</td>\n",
       "      <td>Prüfung!Daten</td>\n",
       "      <td>10%</td>\n",
       "      <td>Testing✓</td>\n",
       "      <td>Customer</td>\n",
       "      <td>Support</td>\n",
       "      <td>Multilingual@Data</td>\n",
       "      <td>NaN</td>\n",
       "      <td>NaN</td>\n",
       "    </tr>\n",
       "    <tr>\n",
       "      <th>4</th>\n",
       "      <td>2023-10-28 12:04:00</td>\n",
       "      <td>2023-10-28 12:19:00</td>\n",
       "      <td>99</td>\n",
       "      <td>24</td>\n",
       "      <td>37</td>\n",
       "      <td>Quarterly Report</td>\n",
       "      <td>10203</td>\n",
       "      <td>Ειδικός^Στήλη</td>\n",
       "      <td>90%</td>\n",
       "      <td>Déjà vu</td>\n",
       "      <td>Data</td>\n",
       "      <td>With</td>\n",
       "      <td>Специални^Символи</td>\n",
       "      <td>For&amp;Analysis</td>\n",
       "      <td>NaN</td>\n",
       "    </tr>\n",
       "  </tbody>\n",
       "</table>\n",
       "</div>"
      ],
      "text/plain": [
       "                   col                col.1  col.2  col.3  col.4  \\\n",
       "0  2023-10-28 12:00:00  2023-10-28 12:15:00     42     17     99   \n",
       "1  2023-10-28 12:01:00  2023-10-28 12:16:00     21      8     76   \n",
       "2  2023-10-28 12:02:00  2023-10-28 12:17:00     60     33     42   \n",
       "3  2023-10-28 12:03:00  2023-10-28 12:18:00     12      5     63   \n",
       "4  2023-10-28 12:04:00  2023-10-28 12:19:00     99     24     37   \n",
       "\n",
       "              col.5  col.6           col.7 col.8        col.9    col.10  \\\n",
       "0    Product Launch  12345    Привет, мир!  100%      Déjà vu      Pipe   \n",
       "1  Financial Report  67890  Data#Analytics   80%     Testing✓    Market   \n",
       "2  Machine Learning  13579           特殊*字符   50%  Übermensch✓  Big Data   \n",
       "3    Sales Forecast  24680   Prüfung!Daten   10%     Testing✓  Customer   \n",
       "4  Quarterly Report  10203   Ειδικός^Στήλη   90%      Déjà vu      Data   \n",
       "\n",
       "       col.11             col.12           col.13              col.14  \n",
       "0   Separated               Data             With  Special@Characters  \n",
       "1    Research               Data  Analysis@Sample                 NaN  \n",
       "2  Processing           Advanced          AI@Tech                 NaN  \n",
       "3     Support  Multilingual@Data              NaN                 NaN  \n",
       "4        With  Специални^Символи     For&Analysis                 NaN  "
      ]
     },
     "execution_count": 2,
     "metadata": {},
     "output_type": "execute_result"
    }
   ],
   "source": [
    "csv_file = 'data/IncrementalData.csv'\n",
    "df = pd.read_csv(csv_file, header=0, sep='|')\n",
    "df.head()"
   ]
  },
  {
   "cell_type": "code",
   "execution_count": 3,
   "metadata": {},
   "outputs": [
    {
     "data": {
      "text/plain": [
       "col       object\n",
       "col.1     object\n",
       "col.2      int64\n",
       "col.3      int64\n",
       "col.4      int64\n",
       "col.5     object\n",
       "col.6      int64\n",
       "col.7     object\n",
       "col.8     object\n",
       "col.9     object\n",
       "col.10    object\n",
       "col.11    object\n",
       "col.12    object\n",
       "col.13    object\n",
       "col.14    object\n",
       "dtype: object"
      ]
     },
     "execution_count": 3,
     "metadata": {},
     "output_type": "execute_result"
    }
   ],
   "source": [
    "df.dtypes"
   ]
  },
  {
   "cell_type": "code",
   "execution_count": 4,
   "metadata": {},
   "outputs": [
    {
     "data": {
      "text/html": [
       "<div>\n",
       "<style scoped>\n",
       "    .dataframe tbody tr th:only-of-type {\n",
       "        vertical-align: middle;\n",
       "    }\n",
       "\n",
       "    .dataframe tbody tr th {\n",
       "        vertical-align: top;\n",
       "    }\n",
       "\n",
       "    .dataframe thead th {\n",
       "        text-align: right;\n",
       "    }\n",
       "</style>\n",
       "<table border=\"1\" class=\"dataframe\">\n",
       "  <thead>\n",
       "    <tr style=\"text-align: right;\">\n",
       "      <th></th>\n",
       "      <th>col.2</th>\n",
       "      <th>col.3</th>\n",
       "      <th>col.4</th>\n",
       "      <th>col.6</th>\n",
       "    </tr>\n",
       "  </thead>\n",
       "  <tbody>\n",
       "    <tr>\n",
       "      <th>count</th>\n",
       "      <td>67.000000</td>\n",
       "      <td>67.000000</td>\n",
       "      <td>67.000000</td>\n",
       "      <td>67.000000</td>\n",
       "    </tr>\n",
       "    <tr>\n",
       "      <th>mean</th>\n",
       "      <td>50.970149</td>\n",
       "      <td>22.402985</td>\n",
       "      <td>67.044776</td>\n",
       "      <td>53804.567164</td>\n",
       "    </tr>\n",
       "    <tr>\n",
       "      <th>std</th>\n",
       "      <td>23.430730</td>\n",
       "      <td>10.159426</td>\n",
       "      <td>14.736507</td>\n",
       "      <td>28925.554805</td>\n",
       "    </tr>\n",
       "    <tr>\n",
       "      <th>min</th>\n",
       "      <td>12.000000</td>\n",
       "      <td>5.000000</td>\n",
       "      <td>37.000000</td>\n",
       "      <td>10203.000000</td>\n",
       "    </tr>\n",
       "    <tr>\n",
       "      <th>25%</th>\n",
       "      <td>32.000000</td>\n",
       "      <td>14.000000</td>\n",
       "      <td>56.500000</td>\n",
       "      <td>28206.500000</td>\n",
       "    </tr>\n",
       "    <tr>\n",
       "      <th>50%</th>\n",
       "      <td>47.000000</td>\n",
       "      <td>21.000000</td>\n",
       "      <td>68.000000</td>\n",
       "      <td>54321.000000</td>\n",
       "    </tr>\n",
       "    <tr>\n",
       "      <th>75%</th>\n",
       "      <td>71.500000</td>\n",
       "      <td>31.000000</td>\n",
       "      <td>76.000000</td>\n",
       "      <td>79913.500000</td>\n",
       "    </tr>\n",
       "    <tr>\n",
       "      <th>max</th>\n",
       "      <td>99.000000</td>\n",
       "      <td>40.000000</td>\n",
       "      <td>99.000000</td>\n",
       "      <td>98765.000000</td>\n",
       "    </tr>\n",
       "  </tbody>\n",
       "</table>\n",
       "</div>"
      ],
      "text/plain": [
       "           col.2      col.3      col.4         col.6\n",
       "count  67.000000  67.000000  67.000000     67.000000\n",
       "mean   50.970149  22.402985  67.044776  53804.567164\n",
       "std    23.430730  10.159426  14.736507  28925.554805\n",
       "min    12.000000   5.000000  37.000000  10203.000000\n",
       "25%    32.000000  14.000000  56.500000  28206.500000\n",
       "50%    47.000000  21.000000  68.000000  54321.000000\n",
       "75%    71.500000  31.000000  76.000000  79913.500000\n",
       "max    99.000000  40.000000  99.000000  98765.000000"
      ]
     },
     "execution_count": 4,
     "metadata": {},
     "output_type": "execute_result"
    }
   ],
   "source": [
    "# Get summary statistics\n",
    "df.describe()"
   ]
  },
  {
   "cell_type": "code",
   "execution_count": 5,
   "metadata": {},
   "outputs": [
    {
     "data": {
      "text/plain": [
       "Index(['col', 'col.1', 'col.2', 'col.3', 'col.4', 'col.5', 'col.6', 'col.7',\n",
       "       'col.8', 'col.9', 'col.10', 'col.11', 'col.12', 'col.13', 'col.14'],\n",
       "      dtype='object')"
      ]
     },
     "execution_count": 5,
     "metadata": {},
     "output_type": "execute_result"
    }
   ],
   "source": [
    "df.columns"
   ]
  },
  {
   "cell_type": "code",
   "execution_count": 6,
   "metadata": {},
   "outputs": [
    {
     "data": {
      "text/plain": [
       "col       2023-10-28 12:00:00\n",
       "col.1     2023-10-28 12:15:00\n",
       "col.2                      42\n",
       "col.3                      17\n",
       "col.4                      99\n",
       "col.5          Product Launch\n",
       "col.6                   12345\n",
       "col.7            Привет, мир!\n",
       "col.8                    100%\n",
       "col.9                 Déjà vu\n",
       "col.10                   Pipe\n",
       "col.11              Separated\n",
       "col.12                   Data\n",
       "col.13                   With\n",
       "col.14     Special@Characters\n",
       "Name: 0, dtype: object"
      ]
     },
     "execution_count": 6,
     "metadata": {},
     "output_type": "execute_result"
    }
   ],
   "source": [
    "df.iloc[0]"
   ]
  },
  {
   "cell_type": "code",
   "execution_count": 7,
   "metadata": {},
   "outputs": [],
   "source": [
    "# Define column type previxes following [pattern, prefix]\n",
    "# Use an optional group in case the timestamp has nonsecond value 2023-10-28 12:00:00.123456\n",
    "type_prefixes = {\n",
    "    'timestamp': [r'^\\d{2, 4}-\\d{2}-\\d{2} \\d{2}:\\d{2}:\\d{2}(\\.\\d{1,9})?$', 'TMSTP'],\n",
    "    'integer': [r'^\\d+$', 'INT'],\n",
    "    'date': [r'^\\d{2,4}-\\d{2}-\\d{2,4}$', 'DT']\n",
    "}"
   ]
  },
  {
   "cell_type": "code",
   "execution_count": 8,
   "metadata": {},
   "outputs": [
    {
     "data": {
      "text/plain": [
       "(67, 15)"
      ]
     },
     "execution_count": 8,
     "metadata": {},
     "output_type": "execute_result"
    }
   ],
   "source": [
    "df.shape"
   ]
  },
  {
   "cell_type": "code",
   "execution_count": 9,
   "metadata": {},
   "outputs": [
    {
     "data": {
      "text/plain": [
       "67"
      ]
     },
     "execution_count": 9,
     "metadata": {},
     "output_type": "execute_result"
    }
   ],
   "source": [
    "num_rows = df.shape[0]\n",
    "num_rows"
   ]
  },
  {
   "cell_type": "code",
   "execution_count": 10,
   "metadata": {},
   "outputs": [
    {
     "data": {
      "text/plain": [
       "['2023-10-28 12:00:00',\n",
       " '2023-10-28 12:15:00',\n",
       " 42,\n",
       " 17,\n",
       " 99,\n",
       " 'Product Launch',\n",
       " 12345,\n",
       " 'Привет, мир!',\n",
       " '100%',\n",
       " 'Déjà vu',\n",
       " 'Pipe',\n",
       " 'Separated',\n",
       " 'Data',\n",
       " 'With',\n",
       " 'Special@Characters']"
      ]
     },
     "execution_count": 10,
     "metadata": {},
     "output_type": "execute_result"
    }
   ],
   "source": [
    "# Pay attention to the non-string values for regex pattern match\n",
    "df.iloc[0].to_list()"
   ]
  },
  {
   "cell_type": "code",
   "execution_count": 11,
   "metadata": {},
   "outputs": [
    {
     "name": "stdout",
     "output_type": "stream",
     "text": [
      "['2023-10-28 12:00:00', '2023-10-28 12:15:00', 42, 17, 99, 'Product Launch', 12345, 'Привет, мир!', '100%', 'Déjà vu', 'Pipe', 'Separated', 'Data', 'With', 'Special@Characters']\n"
     ]
    }
   ],
   "source": [
    "# Split the first row into individual columns\n",
    "for i in range(num_rows):\n",
    "    current_row = df.iloc[i].to_list()\n",
    "    print(current_row)\n",
    "    break"
   ]
  },
  {
   "cell_type": "markdown",
   "metadata": {},
   "source": [
    "## Name Columns"
   ]
  },
  {
   "cell_type": "code",
   "execution_count": 12,
   "metadata": {},
   "outputs": [
    {
     "data": {
      "text/plain": [
       "col       object\n",
       "col.1     object\n",
       "col.2      int64\n",
       "col.3      int64\n",
       "col.4      int64\n",
       "col.5     object\n",
       "col.6      int64\n",
       "col.7     object\n",
       "col.8     object\n",
       "col.9     object\n",
       "col.10    object\n",
       "col.11    object\n",
       "col.12    object\n",
       "col.13    object\n",
       "col.14    object\n",
       "dtype: object"
      ]
     },
     "execution_count": 12,
     "metadata": {},
     "output_type": "execute_result"
    }
   ],
   "source": [
    "# Check data types\n",
    "df.dtypes"
   ]
  },
  {
   "cell_type": "code",
   "execution_count": 13,
   "metadata": {},
   "outputs": [
    {
     "data": {
      "text/plain": [
       "0    2023-10-28 12:00:00\n",
       "1    2023-10-28 12:01:00\n",
       "2    2023-10-28 12:02:00\n",
       "3    2023-10-28 12:03:00\n",
       "4    2023-10-28 12:04:00\n",
       "             ...        \n",
       "62   2023-10-28 13:02:00\n",
       "63   2023-10-28 13:03:00\n",
       "64   2023-10-28 13:04:00\n",
       "65   2023-10-28 13:05:00\n",
       "66   2023-10-28 13:06:00\n",
       "Name: col, Length: 67, dtype: datetime64[ns]"
      ]
     },
     "execution_count": 13,
     "metadata": {},
     "output_type": "execute_result"
    }
   ],
   "source": [
    "pd.to_datetime(df.iloc[:, 0])"
   ]
  },
  {
   "cell_type": "code",
   "execution_count": 14,
   "metadata": {},
   "outputs": [
    {
     "data": {
      "text/plain": [
       "col       datetime64[ns]\n",
       "col.1     datetime64[ns]\n",
       "col.2              int64\n",
       "col.3              int64\n",
       "col.4              int64\n",
       "col.5             object\n",
       "col.6              int64\n",
       "col.7             object\n",
       "col.8             object\n",
       "col.9             object\n",
       "col.10            object\n",
       "col.11            object\n",
       "col.12            object\n",
       "col.13            object\n",
       "col.14            object\n",
       "dtype: object"
      ]
     },
     "execution_count": 14,
     "metadata": {},
     "output_type": "execute_result"
    }
   ],
   "source": [
    "# Conver the first two timstamp columns to datetime type\n",
    "tmstp_columns = ['col', 'col.1']\n",
    "df[tmstp_columns] = df[tmstp_columns].apply(pd.to_datetime)\n",
    "df.dtypes"
   ]
  },
  {
   "cell_type": "code",
   "execution_count": 15,
   "metadata": {},
   "outputs": [
    {
     "data": {
      "text/plain": [
       "['col',\n",
       " 'col.1',\n",
       " 'col.2',\n",
       " 'col.3',\n",
       " 'col.4',\n",
       " 'col.5',\n",
       " 'col.6',\n",
       " 'col.7',\n",
       " 'col.8',\n",
       " 'col.9',\n",
       " 'col.10',\n",
       " 'col.11',\n",
       " 'col.12',\n",
       " 'col.13',\n",
       " 'col.14']"
      ]
     },
     "execution_count": 15,
     "metadata": {},
     "output_type": "execute_result"
    }
   ],
   "source": [
    "columns = df.columns.tolist()\n",
    "columns"
   ]
  },
  {
   "cell_type": "code",
   "execution_count": 16,
   "metadata": {},
   "outputs": [
    {
     "data": {
      "text/plain": [
       "['datetime64[ns]',\n",
       " 'datetime64[ns]',\n",
       " 'int64',\n",
       " 'int64',\n",
       " 'int64',\n",
       " 'object',\n",
       " 'int64',\n",
       " 'object',\n",
       " 'object',\n",
       " 'object',\n",
       " 'object',\n",
       " 'object',\n",
       " 'object',\n",
       " 'object',\n",
       " 'object']"
      ]
     },
     "execution_count": 16,
     "metadata": {},
     "output_type": "execute_result"
    }
   ],
   "source": [
    "dtypes = [str(dtype) for dtype in df.dtypes]\n",
    "dtypes"
   ]
  },
  {
   "cell_type": "code",
   "execution_count": 17,
   "metadata": {},
   "outputs": [
    {
     "data": {
      "text/plain": [
       "['TMSTP_col',\n",
       " 'TMSTP_col.1',\n",
       " 'INT_col.2',\n",
       " 'INT_col.3',\n",
       " 'INT_col.4',\n",
       " 'STR_col.5',\n",
       " 'INT_col.6',\n",
       " 'STR_col.7',\n",
       " 'STR_col.8',\n",
       " 'STR_col.9',\n",
       " 'STR_col.10',\n",
       " 'STR_col.11',\n",
       " 'STR_col.12',\n",
       " 'STR_col.13',\n",
       " 'STR_col.14']"
      ]
     },
     "execution_count": 17,
     "metadata": {},
     "output_type": "execute_result"
    }
   ],
   "source": [
    "column_names = []\n",
    "for (col_name, dtype) in zip(columns, dtypes):\n",
    "    if dtype.startswith('datetime'):\n",
    "        col_name = f\"TMSTP_{col_name}\"\n",
    "    elif dtype.startswith('int'):\n",
    "        col_name = f\"INT_{col_name}\"\n",
    "    else:\n",
    "        col_name = f\"STR_{col_name}\"\n",
    "    column_names.append(col_name)\n",
    "\n",
    "column_names"
   ]
  },
  {
   "cell_type": "code",
   "execution_count": 18,
   "metadata": {},
   "outputs": [
    {
     "data": {
      "text/html": [
       "<div>\n",
       "<style scoped>\n",
       "    .dataframe tbody tr th:only-of-type {\n",
       "        vertical-align: middle;\n",
       "    }\n",
       "\n",
       "    .dataframe tbody tr th {\n",
       "        vertical-align: top;\n",
       "    }\n",
       "\n",
       "    .dataframe thead th {\n",
       "        text-align: right;\n",
       "    }\n",
       "</style>\n",
       "<table border=\"1\" class=\"dataframe\">\n",
       "  <thead>\n",
       "    <tr style=\"text-align: right;\">\n",
       "      <th></th>\n",
       "      <th>TMSTP_col</th>\n",
       "      <th>TMSTP_col.1</th>\n",
       "      <th>INT_col.2</th>\n",
       "      <th>INT_col.3</th>\n",
       "      <th>INT_col.4</th>\n",
       "      <th>STR_col.5</th>\n",
       "      <th>INT_col.6</th>\n",
       "      <th>STR_col.7</th>\n",
       "      <th>STR_col.8</th>\n",
       "      <th>STR_col.9</th>\n",
       "      <th>STR_col.10</th>\n",
       "      <th>STR_col.11</th>\n",
       "      <th>STR_col.12</th>\n",
       "      <th>STR_col.13</th>\n",
       "      <th>STR_col.14</th>\n",
       "    </tr>\n",
       "  </thead>\n",
       "  <tbody>\n",
       "    <tr>\n",
       "      <th>0</th>\n",
       "      <td>2023-10-28 12:00:00</td>\n",
       "      <td>2023-10-28 12:15:00</td>\n",
       "      <td>42</td>\n",
       "      <td>17</td>\n",
       "      <td>99</td>\n",
       "      <td>Product Launch</td>\n",
       "      <td>12345</td>\n",
       "      <td>Привет, мир!</td>\n",
       "      <td>100%</td>\n",
       "      <td>Déjà vu</td>\n",
       "      <td>Pipe</td>\n",
       "      <td>Separated</td>\n",
       "      <td>Data</td>\n",
       "      <td>With</td>\n",
       "      <td>Special@Characters</td>\n",
       "    </tr>\n",
       "    <tr>\n",
       "      <th>1</th>\n",
       "      <td>2023-10-28 12:01:00</td>\n",
       "      <td>2023-10-28 12:16:00</td>\n",
       "      <td>21</td>\n",
       "      <td>8</td>\n",
       "      <td>76</td>\n",
       "      <td>Financial Report</td>\n",
       "      <td>67890</td>\n",
       "      <td>Data#Analytics</td>\n",
       "      <td>80%</td>\n",
       "      <td>Testing✓</td>\n",
       "      <td>Market</td>\n",
       "      <td>Research</td>\n",
       "      <td>Data</td>\n",
       "      <td>Analysis@Sample</td>\n",
       "      <td>NaN</td>\n",
       "    </tr>\n",
       "    <tr>\n",
       "      <th>2</th>\n",
       "      <td>2023-10-28 12:02:00</td>\n",
       "      <td>2023-10-28 12:17:00</td>\n",
       "      <td>60</td>\n",
       "      <td>33</td>\n",
       "      <td>42</td>\n",
       "      <td>Machine Learning</td>\n",
       "      <td>13579</td>\n",
       "      <td>特殊*字符</td>\n",
       "      <td>50%</td>\n",
       "      <td>Übermensch✓</td>\n",
       "      <td>Big Data</td>\n",
       "      <td>Processing</td>\n",
       "      <td>Advanced</td>\n",
       "      <td>AI@Tech</td>\n",
       "      <td>NaN</td>\n",
       "    </tr>\n",
       "    <tr>\n",
       "      <th>3</th>\n",
       "      <td>2023-10-28 12:03:00</td>\n",
       "      <td>2023-10-28 12:18:00</td>\n",
       "      <td>12</td>\n",
       "      <td>5</td>\n",
       "      <td>63</td>\n",
       "      <td>Sales Forecast</td>\n",
       "      <td>24680</td>\n",
       "      <td>Prüfung!Daten</td>\n",
       "      <td>10%</td>\n",
       "      <td>Testing✓</td>\n",
       "      <td>Customer</td>\n",
       "      <td>Support</td>\n",
       "      <td>Multilingual@Data</td>\n",
       "      <td>NaN</td>\n",
       "      <td>NaN</td>\n",
       "    </tr>\n",
       "    <tr>\n",
       "      <th>4</th>\n",
       "      <td>2023-10-28 12:04:00</td>\n",
       "      <td>2023-10-28 12:19:00</td>\n",
       "      <td>99</td>\n",
       "      <td>24</td>\n",
       "      <td>37</td>\n",
       "      <td>Quarterly Report</td>\n",
       "      <td>10203</td>\n",
       "      <td>Ειδικός^Στήλη</td>\n",
       "      <td>90%</td>\n",
       "      <td>Déjà vu</td>\n",
       "      <td>Data</td>\n",
       "      <td>With</td>\n",
       "      <td>Специални^Символи</td>\n",
       "      <td>For&amp;Analysis</td>\n",
       "      <td>NaN</td>\n",
       "    </tr>\n",
       "  </tbody>\n",
       "</table>\n",
       "</div>"
      ],
      "text/plain": [
       "            TMSTP_col         TMSTP_col.1  INT_col.2  INT_col.3  INT_col.4  \\\n",
       "0 2023-10-28 12:00:00 2023-10-28 12:15:00         42         17         99   \n",
       "1 2023-10-28 12:01:00 2023-10-28 12:16:00         21          8         76   \n",
       "2 2023-10-28 12:02:00 2023-10-28 12:17:00         60         33         42   \n",
       "3 2023-10-28 12:03:00 2023-10-28 12:18:00         12          5         63   \n",
       "4 2023-10-28 12:04:00 2023-10-28 12:19:00         99         24         37   \n",
       "\n",
       "          STR_col.5  INT_col.6       STR_col.7 STR_col.8    STR_col.9  \\\n",
       "0    Product Launch      12345    Привет, мир!      100%      Déjà vu   \n",
       "1  Financial Report      67890  Data#Analytics       80%     Testing✓   \n",
       "2  Machine Learning      13579           特殊*字符       50%  Übermensch✓   \n",
       "3    Sales Forecast      24680   Prüfung!Daten       10%     Testing✓   \n",
       "4  Quarterly Report      10203   Ειδικός^Στήλη       90%      Déjà vu   \n",
       "\n",
       "  STR_col.10  STR_col.11         STR_col.12       STR_col.13  \\\n",
       "0       Pipe   Separated               Data             With   \n",
       "1     Market    Research               Data  Analysis@Sample   \n",
       "2   Big Data  Processing           Advanced          AI@Tech   \n",
       "3   Customer     Support  Multilingual@Data              NaN   \n",
       "4       Data        With  Специални^Символи     For&Analysis   \n",
       "\n",
       "           STR_col.14  \n",
       "0  Special@Characters  \n",
       "1                 NaN  \n",
       "2                 NaN  \n",
       "3                 NaN  \n",
       "4                 NaN  "
      ]
     },
     "execution_count": 18,
     "metadata": {},
     "output_type": "execute_result"
    }
   ],
   "source": [
    "df.columns = column_names\n",
    "df.head()"
   ]
  },
  {
   "cell_type": "markdown",
   "metadata": {},
   "source": [
    "## Check for Non Latin Characters"
   ]
  },
  {
   "cell_type": "code",
   "execution_count": 19,
   "metadata": {},
   "outputs": [
    {
     "name": "stdout",
     "output_type": "stream",
     "text": [
      "Non-Latin character 'Привет, мир!' found in 'STR_col.7' column at row num: 1\n",
      "Non-Latin character '特殊*字符' found in 'STR_col.7' column at row num: 3\n",
      "Non-Latin character 'Prüfung!Daten' found in 'STR_col.7' column at row num: 4\n",
      "Non-Latin character 'Ειδικός^Στήλη' found in 'STR_col.7' column at row num: 5\n",
      "Non-Latin character 'Déjà vu' found in 'STR_col.9' column at row num: 1\n",
      "Non-Latin character 'Testing✓' found in 'STR_col.9' column at row num: 2\n",
      "Non-Latin character 'Übermensch✓' found in 'STR_col.9' column at row num: 3\n",
      "Non-Latin character 'Testing✓' found in 'STR_col.9' column at row num: 4\n",
      "Non-Latin character 'Déjà vu' found in 'STR_col.9' column at row num: 5\n",
      "Non-Latin character 'Специални^Символи' found in 'STR_col.12' column at row num: 5\n"
     ]
    }
   ],
   "source": [
    "for column_index, column_name in enumerate(df.columns):\n",
    "    for i, value in enumerate(df.iloc[:, column_index]):\n",
    "        if isinstance(value, str) and not value.isascii():\n",
    "            print(f\"Non-Latin character '{value}' found in '{column_name}' column at row num: {i + 1}\")\n",
    "        if i >3:\n",
    "            break"
   ]
  },
  {
   "cell_type": "code",
   "execution_count": 20,
   "metadata": {},
   "outputs": [
    {
     "name": "stdout",
     "output_type": "stream",
     "text": [
      "Non-Latin characters found in 'STR_col.7' column.\n",
      "Non-Latin characters found in 'STR_col.9' column.\n",
      "Non-Latin characters found in 'STR_col.12' column.\n"
     ]
    }
   ],
   "source": [
    "def check_non_latin_characters(dataframe: pd.DataFrame) -> List[str]:\n",
    "    \"\"\"\n",
    "    Check for non-Latin characters in a DataFrame and return columns with such characters.\n",
    "\n",
    "    This function iterates through the columns of a DataFrame and checks for the presence of non-Latin\n",
    "    characters in any cell. It returns a list of column names that contain non-Latin characters.\n",
    "\n",
    "    Parameters:\n",
    "    dataframe (pd.DataFrame): The DataFrame to be checked for non-Latin characters.\n",
    "\n",
    "    Returns:\n",
    "    List[str]: A list of column names that contain non-Latin characters.\n",
    "\n",
    "    Example Usage:\n",
    "    non_ascii_columns = check_non_latin_characters(new_df)\n",
    "    for column_name in non_ascii_columns:\n",
    "        print(f\"Non-Latin characters found in '{column_name}' column.\")\n",
    "    \"\"\"\n",
    "    non_ascii_columns = []\n",
    "    for column_index, column_name in enumerate(dataframe.columns):\n",
    "        for i, value in enumerate(dataframe.iloc[:, column_index]):\n",
    "            if isinstance(value, str) and not value.isascii():\n",
    "                non_ascii_columns.append(column_name)\n",
    "                break\n",
    "    return non_ascii_columns\n",
    "\n",
    "non_ascii_columns = check_non_latin_characters(df)\n",
    "for column_name in non_ascii_columns:\n",
    "    print(f\"Non-Latin characters found in '{column_name}' column.\")"
   ]
  }
 ],
 "metadata": {
  "kernelspec": {
   "display_name": "Python 3",
   "language": "python",
   "name": "python3"
  },
  "language_info": {
   "codemirror_mode": {
    "name": "ipython",
    "version": 3
   },
   "file_extension": ".py",
   "mimetype": "text/x-python",
   "name": "python",
   "nbconvert_exporter": "python",
   "pygments_lexer": "ipython3",
   "version": "3.11.2"
  }
 },
 "nbformat": 4,
 "nbformat_minor": 2
}
