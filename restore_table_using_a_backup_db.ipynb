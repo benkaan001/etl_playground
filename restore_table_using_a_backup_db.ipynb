{
 "cells": [
  {
   "cell_type": "code",
   "execution_count": 1,
   "metadata": {},
   "outputs": [],
   "source": [
    "import pandas as pd"
   ]
  },
  {
   "cell_type": "code",
   "execution_count": 2,
   "metadata": {},
   "outputs": [
    {
     "data": {
      "text/plain": [
       "(16, 18)"
      ]
     },
     "execution_count": 2,
     "metadata": {},
     "output_type": "execute_result"
    }
   ],
   "source": [
    "df = pd.read_csv('data/BackupData.csv')\n",
    "df.shape"
   ]
  },
  {
   "cell_type": "code",
   "execution_count": 3,
   "metadata": {},
   "outputs": [
    {
     "data": {
      "text/plain": [
       "Index(['Id', 'Domain', 'Subdomain', 'AzureSchema', 'AzureTable',\n",
       "       'RandomColumn2', 'SourceSchema', 'SourceTable', 'NotificationEmail',\n",
       "       'TargetTable', 'UploadedTime', 'LastUpdated', 'RandomColumn3',\n",
       "       'TargetSchema', 'SourceQuery', 'TargetQuery', 'RandomColumn1',\n",
       "       'RandomColumn4'],\n",
       "      dtype='object')"
      ]
     },
     "execution_count": 3,
     "metadata": {},
     "output_type": "execute_result"
    }
   ],
   "source": [
    "df.columns"
   ]
  },
  {
   "cell_type": "code",
   "execution_count": 4,
   "metadata": {},
   "outputs": [
    {
     "data": {
      "text/html": [
       "<div>\n",
       "<style scoped>\n",
       "    .dataframe tbody tr th:only-of-type {\n",
       "        vertical-align: middle;\n",
       "    }\n",
       "\n",
       "    .dataframe tbody tr th {\n",
       "        vertical-align: top;\n",
       "    }\n",
       "\n",
       "    .dataframe thead th {\n",
       "        text-align: right;\n",
       "    }\n",
       "</style>\n",
       "<table border=\"1\" class=\"dataframe\">\n",
       "  <thead>\n",
       "    <tr style=\"text-align: right;\">\n",
       "      <th></th>\n",
       "      <th>Id</th>\n",
       "      <th>Domain</th>\n",
       "      <th>Subdomain</th>\n",
       "      <th>AzureSchema</th>\n",
       "      <th>AzureTable</th>\n",
       "      <th>RandomColumn2</th>\n",
       "      <th>SourceSchema</th>\n",
       "      <th>SourceTable</th>\n",
       "      <th>NotificationEmail</th>\n",
       "      <th>TargetTable</th>\n",
       "      <th>UploadedTime</th>\n",
       "      <th>LastUpdated</th>\n",
       "      <th>RandomColumn3</th>\n",
       "      <th>TargetSchema</th>\n",
       "      <th>SourceQuery</th>\n",
       "      <th>TargetQuery</th>\n",
       "      <th>RandomColumn1</th>\n",
       "      <th>RandomColumn4</th>\n",
       "    </tr>\n",
       "  </thead>\n",
       "  <tbody>\n",
       "    <tr>\n",
       "      <th>0</th>\n",
       "      <td>1234</td>\n",
       "      <td>Schema1</td>\n",
       "      <td>Table1</td>\n",
       "      <td>AzureSchema1</td>\n",
       "      <td>AzureTable1</td>\n",
       "      <td>' '</td>\n",
       "      <td>SourceSchema1</td>\n",
       "      <td>SourceTable1</td>\n",
       "      <td>emailtechdesk@techdeskhelp.com</td>\n",
       "      <td>TargetTable1</td>\n",
       "      <td>2023-11-02 10:30:45:123456789</td>\n",
       "      <td>2023-11-02 10:31:45:123456789</td>\n",
       "      <td>' '</td>\n",
       "      <td>TargetSchema1</td>\n",
       "      <td>SELECT * FROM SourceTable WHERE LastUpdatedTim...</td>\n",
       "      <td>MERGE INTO TargetTable tgt USING SourceTable s...</td>\n",
       "      <td>' '</td>\n",
       "      <td>' '</td>\n",
       "    </tr>\n",
       "  </tbody>\n",
       "</table>\n",
       "</div>"
      ],
      "text/plain": [
       "     Id   Domain Subdomain   AzureSchema   AzureTable RandomColumn2  \\\n",
       "0  1234  Schema1    Table1  AzureSchema1  AzureTable1           ' '   \n",
       "\n",
       "    SourceSchema   SourceTable               NotificationEmail   TargetTable  \\\n",
       "0  SourceSchema1  SourceTable1  emailtechdesk@techdeskhelp.com  TargetTable1   \n",
       "\n",
       "                    UploadedTime                    LastUpdated RandomColumn3  \\\n",
       "0  2023-11-02 10:30:45:123456789  2023-11-02 10:31:45:123456789           ' '   \n",
       "\n",
       "    TargetSchema                                        SourceQuery  \\\n",
       "0  TargetSchema1  SELECT * FROM SourceTable WHERE LastUpdatedTim...   \n",
       "\n",
       "                                         TargetQuery RandomColumn1  \\\n",
       "0  MERGE INTO TargetTable tgt USING SourceTable s...           ' '   \n",
       "\n",
       "  RandomColumn4  \n",
       "0           ' '  "
      ]
     },
     "execution_count": 4,
     "metadata": {},
     "output_type": "execute_result"
    }
   ],
   "source": [
    "df.head(1)"
   ]
  },
  {
   "cell_type": "code",
   "execution_count": 5,
   "metadata": {},
   "outputs": [],
   "source": [
    "# Table name where the backup table info will be inserted into\n",
    "table_name = 'DevFrameworkTable'\n",
    "\n",
    "# Define a list of columns to wrap with single quotes\n",
    "columns_to_quote = [ 'SourceQuery', 'TargetQuery']\n",
    "\n",
    "# Open a new SQL file for writing\n",
    "with open('data/output_data/BackupDataToBeImported1.sql', 'w') as sql_file:\n",
    "    for index, row in df.iterrows():\n",
    "        values = []\n",
    "        for column in df.columns:\n",
    "            value = row[column]\n",
    "            # Check if the column is in the list to be wrapped with a single quote\n",
    "            if column in columns_to_quote:\n",
    "                if value is not None:\n",
    "                    values.append(f\"'{value}'\")\n",
    "                else:\n",
    "                    values.append('NULL')\n",
    "            else:\n",
    "                if value is not None:\n",
    "                    values.append(str(value))\n",
    "                else:\n",
    "                    values.append('NULL')\n",
    "        insert_statement = f\"\"\"INSERT INTO {table_name} ({', '.join(df.columns)}) VALUES ({', '.join(values)});\\n\"\"\"\n",
    "        sql_file.write(insert_statement)"
   ]
  }
 ],
 "metadata": {
  "kernelspec": {
   "display_name": "Python 3",
   "language": "python",
   "name": "python3"
  },
  "language_info": {
   "codemirror_mode": {
    "name": "ipython",
    "version": 3
   },
   "file_extension": ".py",
   "mimetype": "text/x-python",
   "name": "python",
   "nbconvert_exporter": "python",
   "pygments_lexer": "ipython3",
   "version": "3.11.2"
  }
 },
 "nbformat": 4,
 "nbformat_minor": 2
}
